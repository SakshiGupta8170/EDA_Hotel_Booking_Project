{
  "nbformat": 4,
  "nbformat_minor": 0,
  "metadata": {
    "colab": {
      "private_outputs": true,
      "provenance": [],
      "collapsed_sections": [
        "gIfDvo9L0UH2"
      ],
      "include_colab_link": true
    },
    "kernelspec": {
      "name": "python3",
      "display_name": "Python 3"
    },
    "language_info": {
      "name": "python"
    }
  },
  "cells": [
    {
      "cell_type": "markdown",
      "metadata": {
        "id": "view-in-github",
        "colab_type": "text"
      },
      "source": [
        "<a href=\"https://colab.research.google.com/github/SakshiGupta8170/EDA_Hotel_Booking_Project/blob/main/Copy_of_Sample_EDA_Submission_Template.ipynb\" target=\"_parent\"><img src=\"https://colab.research.google.com/assets/colab-badge.svg\" alt=\"Open In Colab\"/></a>"
      ]
    },
    {
      "cell_type": "markdown",
      "source": [
        "# **Project Name**    -  **Hotel Booking Analysis EDA using Python**\n",
        "\n"
      ],
      "metadata": {
        "id": "vncDsAP0Gaoa"
      }
    },
    {
      "cell_type": "markdown",
      "source": [
        " **Name - Sakshi Gupta**\n",
        "##### **Project Type**    - EDA\n",
        "##### **Contribution**    - Individual\n"
      ],
      "metadata": {
        "id": "beRrZCGUAJYm"
      }
    },
    {
      "cell_type": "markdown",
      "source": [
        "# **Project Summary -**"
      ],
      "metadata": {
        "id": "FJNUwmbgGyua"
      }
    },
    {
      "cell_type": "markdown",
      "source": [
        "This project aims to conduct an exploratory data analysis (EDA) on a hotel bookings dataset. This dataset includes information on bookings at two hotels over a specific period, detailing guest profiles, booking details, hotel specifics, and information on cancellations and no-shows.\n",
        "\n",
        "The EDA will seek to provide insights and answer the following questions:\n",
        "\n",
        "Which type of hotel is most preferred by guests? How does lead time for booking vary across different arrival years, and what are the associated cancellation trends? Which country has the highest number of guests? What is the distribution of preferred meal types among hotel guests? What is the relationship between the average daily rate (ADR) and the total number of people? Which year recorded the highest number of bookings? Which distribution channel contributes most to ADR, thus increasing income? How does ADR vary across different months? Which distribution channel has the highest cancellation rate? Which distribution channel has the highest count of repeat guests? What is the distribution of market segments and distribution channels in hotel bookings? How are guests with babies distributed across different hotel types, and what are their booking cancellation rates? What is the distribution of hotel arrivals by year and month? The EDA process will begin with data cleaning to address any missing or erroneous data. Following this, the data will be explored using a variety of visualizations, such as scatter plots, histograms, and heatmaps, to identify patterns and relationships."
      ],
      "metadata": {
        "id": "F6v_1wHtG2nS"
      }
    },
    {
      "cell_type": "markdown",
      "source": [
        "# **GitHub Link -**"
      ],
      "metadata": {
        "id": "w6K7xa23Elo4"
      }
    },
    {
      "cell_type": "markdown",
      "source": [
        "https://github.com/SakshiGupta8170/EDA_Hotel_Booking_Project"
      ],
      "metadata": {
        "id": "h1o69JH3Eqqn"
      }
    },
    {
      "cell_type": "markdown",
      "source": [
        "# **Problem Statement**\n"
      ],
      "metadata": {
        "id": "yQaldy8SH6Dl"
      }
    },
    {
      "cell_type": "markdown",
      "source": [
        "Have you ever wondered when the best time of year to book a hotel room is? Or the optimal length of stay in order to get the best daily rate? What if you wanted to predict whether or not a hotel was likely to receive a disproportionately high number of special requests? This hotel booking dataset can help you explore those questions! This data set contains booking information for a city hotel and a resort hotel, and includes information such as when the booking was made, length of stay, the number of adults, children, and/or babies, and the number of available parking spaces, among other things. All personally identifying information has been removed from the data. Explore and analyse the data to discover important factors that govern the bookings."
      ],
      "metadata": {
        "id": "DpeJGUA3kjGy"
      }
    },
    {
      "cell_type": "markdown",
      "source": [
        "#### **Define Your Business Objective?**"
      ],
      "metadata": {
        "id": "PH-0ReGfmX4f"
      }
    },
    {
      "cell_type": "markdown",
      "source": [
        "Business objective is to understand and visualize dataset from hotel and customer point of view.\n",
        "\n",
        "Reasons for booking cancellations\n",
        "2)Best time to book hotel\n",
        "\n",
        "3)Peak season\n",
        "\n",
        "suggestions to reduce cancellations\n",
        "\n",
        "increase revenue of hotels."
      ],
      "metadata": {
        "id": "PhDvGCAqmjP1"
      }
    },
    {
      "cell_type": "markdown",
      "source": [
        "# **General Guidelines** : -  "
      ],
      "metadata": {
        "id": "mDgbUHAGgjLW"
      }
    },
    {
      "cell_type": "markdown",
      "source": [
        "1.   Well-structured, formatted, and commented code is required.\n",
        "2.   Exception Handling, Production Grade Code & Deployment Ready Code will be a plus. Those students will be awarded some additional credits.\n",
        "     \n",
        "     The additional credits will have advantages over other students during Star Student selection.\n",
        "       \n",
        "             [ Note: - Deployment Ready Code is defined as, the whole .ipynb notebook should be executable in one go\n",
        "                       without a single error logged. ]\n",
        "\n",
        "3.   Each and every logic should have proper comments.\n",
        "4. You may add as many number of charts you want. Make Sure for each and every chart the following format should be answered.\n",
        "        \n",
        "\n",
        "```\n",
        "# Chart visualization code\n",
        "```\n",
        "            \n",
        "\n",
        "*   Why did you pick the specific chart?\n",
        "*   What is/are the insight(s) found from the chart?\n",
        "* Will the gained insights help creating a positive business impact?\n",
        "Are there any insights that lead to negative growth? Justify with specific reason.\n",
        "\n",
        "5. You have to create at least 20 logical & meaningful charts having important insights.\n",
        "\n",
        "\n",
        "[ Hints : - Do the Vizualization in  a structured way while following \"UBM\" Rule.\n",
        "\n",
        "U - Univariate Analysis,\n",
        "\n",
        "B - Bivariate Analysis (Numerical - Categorical, Numerical - Numerical, Categorical - Categorical)\n",
        "\n",
        "M - Multivariate Analysis\n",
        " ]\n",
        "\n",
        "\n",
        "\n"
      ],
      "metadata": {
        "id": "ZrxVaUj-hHfC"
      }
    },
    {
      "cell_type": "markdown",
      "source": [
        "# ***Let's Begin !***"
      ],
      "metadata": {
        "id": "O_i_v8NEhb9l"
      }
    },
    {
      "cell_type": "markdown",
      "source": [
        "## ***1. Know Your Data***"
      ],
      "metadata": {
        "id": "HhfV-JJviCcP"
      }
    },
    {
      "cell_type": "markdown",
      "source": [
        "### Import Libraries"
      ],
      "metadata": {
        "id": "Y3lxredqlCYt"
      }
    },
    {
      "cell_type": "code",
      "source": [
        "# Import Libraries\n",
        "import numpy as np\n",
        "import pandas as pd\n",
        "\n",
        "# for visualisation\n",
        "import seaborn as sns\n",
        "import matplotlib.pyplot as plt\n",
        "%matplotlib inline\n",
        "\n",
        "# for plotting\n",
        "import plotly.express as px\n",
        "\n",
        "# some additional libraries\n",
        "from scipy.stats import zscore\n",
        "import warnings\n",
        "warnings.filterwarnings('ignore')\n",
        "\n",
        "from scipy.stats import zscore\n",
        "import warnings\n",
        "warnings.filterwarnings('ignore')\n"
      ],
      "metadata": {
        "id": "M8Vqi-pPk-HR"
      },
      "execution_count": null,
      "outputs": []
    },
    {
      "cell_type": "code",
      "source": [
        "# mount google drive\n",
        "\n",
        "from google.colab import drive\n"
      ],
      "metadata": {
        "id": "gXAbhrbm4hPD"
      },
      "execution_count": null,
      "outputs": []
    },
    {
      "cell_type": "code",
      "source": [
        "drive.mount(\"/content/drive/\")"
      ],
      "metadata": {
        "id": "l8rJewmc4hLs"
      },
      "execution_count": null,
      "outputs": []
    },
    {
      "cell_type": "markdown",
      "source": [
        "### Dataset Loading"
      ],
      "metadata": {
        "id": "3RnN4peoiCZX"
      }
    },
    {
      "cell_type": "code",
      "source": [
        "# Load Dataset\n",
        "path = \"/content/drive/MyDrive/Capstone Project /Capstone Project 2/Hotel Bookings.csv\"\n",
        "df = pd.read_csv(path)"
      ],
      "metadata": {
        "id": "4CkvbW_SlZ_R"
      },
      "execution_count": null,
      "outputs": []
    },
    {
      "cell_type": "markdown",
      "source": [
        "### Dataset First View"
      ],
      "metadata": {
        "id": "x71ZqKXriCWQ"
      }
    },
    {
      "cell_type": "code",
      "source": [
        "# Dataset First Look\n",
        "df.head()\n"
      ],
      "metadata": {
        "id": "LWNFOSvLl09H"
      },
      "execution_count": null,
      "outputs": []
    },
    {
      "cell_type": "code",
      "source": [
        "# Checking last 5 rows\n",
        "df.tail()"
      ],
      "metadata": {
        "id": "rWyTaazEOSuf"
      },
      "execution_count": null,
      "outputs": []
    },
    {
      "cell_type": "markdown",
      "source": [
        "### Dataset Rows & Columns count"
      ],
      "metadata": {
        "id": "7hBIi_osiCS2"
      }
    },
    {
      "cell_type": "code",
      "source": [
        "# Dataset Rows & Columns count\n",
        "print(f'we have total {df.shape[0]} rows and {df.shape[1]} columns.')"
      ],
      "metadata": {
        "id": "Kllu7SJgmLij"
      },
      "execution_count": null,
      "outputs": []
    },
    {
      "cell_type": "markdown",
      "source": [
        "### Dataset Information"
      ],
      "metadata": {
        "id": "JlHwYmJAmNHm"
      }
    },
    {
      "cell_type": "code",
      "source": [
        "# Dataset Info\n",
        "df.info()"
      ],
      "metadata": {
        "id": "e9hRXRi6meOf"
      },
      "execution_count": null,
      "outputs": []
    },
    {
      "cell_type": "markdown",
      "source": [
        "#### Duplicate Values"
      ],
      "metadata": {
        "id": "35m5QtbWiB9F"
      }
    },
    {
      "cell_type": "code",
      "source": [
        "# Dataset Duplicate Value Count\n",
        "df.drop_duplicates(inplace=True)\n",
        "unique_row = df.shape[0]\n",
        "\n",
        "# Lets check unique rows\n",
        "print(f'Number of unique rows after removing duplicates: {unique_row}')"
      ],
      "metadata": {
        "id": "1sLdpKYkmox0"
      },
      "execution_count": null,
      "outputs": []
    },
    {
      "cell_type": "code",
      "source": [
        "# View new dataset\n",
        "df.reset_index(drop=True, inplace=True)\n",
        "df.head()"
      ],
      "metadata": {
        "id": "zH6yJeC5Ou_S"
      },
      "execution_count": null,
      "outputs": []
    },
    {
      "cell_type": "markdown",
      "source": [
        "#### Missing Values/Null Values"
      ],
      "metadata": {
        "id": "PoPl-ycgm1ru"
      }
    },
    {
      "cell_type": "code",
      "source": [
        "# Missing Values/Null Values Count\n",
        "null_value = df.isnull().sum()\n",
        "\n",
        "# Fill missing values with NaN for consistency\n",
        "df.fillna(np.nan, inplace=True)\n",
        "\n",
        "# Visualize the missing values\n",
        "miss_value = df.isnull().sum().sort_values(ascending=False)\n",
        "miss_value\n"
      ],
      "metadata": {
        "id": "GgHWkxvamxVg"
      },
      "execution_count": null,
      "outputs": []
    },
    {
      "cell_type": "code",
      "source": [
        "# Visualizing the missing values\n",
        "plt.figure(figsize=(10, 7))\n",
        "sns.heatmap(df.isnull(), cbar=False, cmap='viridis')\n",
        "plt.title('Heatmap of Missing Values')\n",
        "plt.show()"
      ],
      "metadata": {
        "id": "3q5wnI3om9sJ"
      },
      "execution_count": null,
      "outputs": []
    },
    {
      "cell_type": "markdown",
      "source": [
        "### What did you know about your dataset?"
      ],
      "metadata": {
        "id": "H0kj-8xxnORC"
      }
    },
    {
      "cell_type": "markdown",
      "source": [
        "This data set contains a single file which compares various booking information between two hotels: a city hotel and a resort hotel.It includes information such as when the booking was made, length of stay, the number of adults, children, and/or babies, and the number of available parking spaces, among other things. The dataset contains a total of 119390 rows and 32 columns.Dataset Contains duplicated items i.e 31944 which is removed later.Also it have null values in company , agent , country, children column. Company has extremely large number of null values as compared to other columns."
      ],
      "metadata": {
        "id": "gfoNAAC-nUe_"
      }
    },
    {
      "cell_type": "markdown",
      "source": [
        "## ***2. Understanding Your Variables***"
      ],
      "metadata": {
        "id": "nA9Y7ga8ng1Z"
      }
    },
    {
      "cell_type": "code",
      "source": [
        "# Dataset Columns\n",
        "df_columns =df.columns\n",
        "df_columns"
      ],
      "metadata": {
        "id": "j7xfkqrt5Ag5"
      },
      "execution_count": null,
      "outputs": []
    },
    {
      "cell_type": "code",
      "source": [
        "# Dataset Describe\n",
        "df.describe()"
      ],
      "metadata": {
        "id": "DnOaZdaE5Q5t"
      },
      "execution_count": null,
      "outputs": []
    },
    {
      "cell_type": "markdown",
      "source": [
        "### Variables Description"
      ],
      "metadata": {
        "id": "PBTbrJXOngz2"
      }
    },
    {
      "cell_type": "markdown",
      "source": [
        "1.hotel = Name of the hotel (Resort or hotel)\n",
        "\n",
        "2.is_canceled = if the booking was canceled (0 or 1 )\n",
        "\n",
        "3.lead_time = Number of days before the actual arrival of guests\n",
        "\n",
        "4.arrival_date_year = year of arrival date\n",
        "\n",
        "5.arrival_date_month = Month of arrival date\n",
        "\n",
        "6.arrival_date_day_of_month = day of arrival date\n",
        "\n",
        "7.arrival_date_week_number = Week number of year for arrival date\n",
        "\n",
        "8.stays_in_weekend_nights = Number of weekend nights (Saturday or Sunday) spent at the hotel by the guest\n",
        "\n",
        "9.stays_in_week_nights = Number of weeknights(Monday to Friday) spent on the hotel by the guest\n",
        "\n",
        "10.adults = Number of adults among guest\n",
        "\n",
        "11.children = Number of children among guest\n",
        "\n",
        "12.babies = Number of babies among guest\n",
        "\n",
        "13.meal = Type of meal these guest booked\n",
        "\n",
        "14.country = The country where the guest belong to\n",
        "\n",
        "15.market_segment =Designation of market segment\n",
        "\n",
        "16.distribution_channel = Nam of booking distribution channel\n",
        "\n",
        "17.is_repeated_guest = If the booking was from a repeted guest (1) or (0)\n",
        "\n",
        "18.previous_cancellations = Number of previous booking that were cancelled by the customer prior of the current booking\n",
        "\n",
        "19.previous_bookings_not_canceled = Number of privious booking not cancelled by the customer prior or to the current booking\n",
        "\n",
        "20.reserved_room_type = Code of room type reserved\n",
        "\n",
        "21.assigned_room_type = Code of room type assigned\n",
        "\n",
        "22.booking_changes = Number of changes made to the booking\n",
        "\n",
        "23.deposit_type = Type of deposit made by the guest\n",
        "\n",
        "24.agent = ID of travel agent who made the booking\n",
        "\n",
        "25.company = ID of the company that made the booking\n",
        "\n",
        "26.days_in_waiting_list = Number of the days the booking was on waiting list\n",
        "\n",
        "27.customer_type = Type of customer assuming one or four categories\n",
        "\n",
        "28.adr = Average Daily Rate , as defined by driving the sum of lodging transaction by the total number of staying nights\n",
        "\n",
        "29.required_car_parking_spaces = Number of car parking spaces required by the customer\n",
        "\n",
        "30.total_of_special_requests = Number of special requests made by the customer\n",
        "\n",
        "31.reservation_status = Reservation status (Cancelled ,Check-Out or No-Show)\n",
        "\n",
        "32.reservation_status_date = Date at which the last reservation status was uploaded"
      ],
      "metadata": {
        "id": "aJV4KIxSnxay"
      }
    },
    {
      "cell_type": "markdown",
      "source": [
        "### Check Unique Values for each variable."
      ],
      "metadata": {
        "id": "u3PMJOP6ngxN"
      }
    },
    {
      "cell_type": "code",
      "source": [
        "# Check Unique Values for each variable.\n",
        "for element in df.columns.tolist():\n",
        "  print(\"No. of unique values in\", element , \"is\" , df[element].nunique())"
      ],
      "metadata": {
        "id": "zms12Yq5n-jE"
      },
      "execution_count": null,
      "outputs": []
    },
    {
      "cell_type": "code",
      "source": [
        "# lets check unique value of hotel column\n",
        "df['hotel'].unique()"
      ],
      "metadata": {
        "id": "wPYICNEfPmgc"
      },
      "execution_count": null,
      "outputs": []
    },
    {
      "cell_type": "code",
      "source": [
        "# Arrival date month columns\n",
        "df['arrival_date_month'].unique()\n"
      ],
      "metadata": {
        "id": "1JGid7w3Pp0T"
      },
      "execution_count": null,
      "outputs": []
    },
    {
      "cell_type": "code",
      "source": [
        "# check unique adults value in columns\n",
        "df['adults'].unique()"
      ],
      "metadata": {
        "id": "vnxvEEy0Psmf"
      },
      "execution_count": null,
      "outputs": []
    },
    {
      "cell_type": "code",
      "source": [
        "# check unique babies value in columns\n",
        "df['babies'].unique()"
      ],
      "metadata": {
        "id": "vvtNm66OPwVd"
      },
      "execution_count": null,
      "outputs": []
    },
    {
      "cell_type": "code",
      "source": [
        "# lets check for the cancel columns\n",
        "df['is_canceled'].unique()"
      ],
      "metadata": {
        "id": "bKu-t8g8PzIq"
      },
      "execution_count": null,
      "outputs": []
    },
    {
      "cell_type": "code",
      "source": [
        "# check unique value of arrival date years\n",
        "df['arrival_date_year'].unique()"
      ],
      "metadata": {
        "id": "M_YPM8RjP2oe"
      },
      "execution_count": null,
      "outputs": []
    },
    {
      "cell_type": "code",
      "source": [
        "# lets check no of unique value in agent\n",
        "df['agent'].unique()\n"
      ],
      "metadata": {
        "id": "LFZqf-4QP960"
      },
      "execution_count": null,
      "outputs": []
    },
    {
      "cell_type": "code",
      "source": [
        "#check for market segment\n",
        "df['market_segment'].unique()"
      ],
      "metadata": {
        "id": "8iiR0fmNQBo4"
      },
      "execution_count": null,
      "outputs": []
    },
    {
      "cell_type": "code",
      "source": [
        "# checking unique value in meal\n",
        "df['meal'].unique()"
      ],
      "metadata": {
        "id": "WvLzUZ-GQEk0"
      },
      "execution_count": null,
      "outputs": []
    },
    {
      "cell_type": "code",
      "source": [
        "# check unique value in country\n",
        "df['country'].unique()"
      ],
      "metadata": {
        "id": "NPUt1usHQHuj"
      },
      "execution_count": null,
      "outputs": []
    },
    {
      "cell_type": "markdown",
      "source": [
        "## 3. ***Data Wrangling***"
      ],
      "metadata": {
        "id": "dauF4eBmngu3"
      }
    },
    {
      "cell_type": "markdown",
      "source": [
        "### Data Wrangling Code"
      ],
      "metadata": {
        "id": "bKJF3rekwFvQ"
      }
    },
    {
      "cell_type": "code",
      "source": [
        "# Write your code to make your dataset analysis ready.\n",
        "# lets check the missing value columns\n",
        "miss_value[:10]"
      ],
      "metadata": {
        "id": "wk-9a2fpoLcV"
      },
      "execution_count": null,
      "outputs": []
    },
    {
      "cell_type": "code",
      "source": [
        "# check % of null value in each column\n",
        "percentage_company_null_value = miss_value[0] / unique_row * 100\n",
        "percentage_company_null_value"
      ],
      "metadata": {
        "id": "WXqTJ92IQYae"
      },
      "execution_count": null,
      "outputs": []
    },
    {
      "cell_type": "code",
      "source": [
        "# check for agent %\n",
        "percentage_agent_null_value = miss_value[1] / unique_row * 100\n",
        "percentage_agent_null_value"
      ],
      "metadata": {
        "id": "K7Acip3yQY9g"
      },
      "execution_count": null,
      "outputs": []
    },
    {
      "cell_type": "code",
      "source": [
        "# check for country % in column\n",
        "percentage_country_null_value = miss_value[2] / unique_row * 100\n",
        "percentage_country_null_value\n"
      ],
      "metadata": {
        "id": "s10TDDb6QfXB"
      },
      "execution_count": null,
      "outputs": []
    },
    {
      "cell_type": "code",
      "source": [
        "# we have less null value in country column, so we replace null from 0 as country column\n",
        "df['children'].fillna(value=0,inplace=True)\n",
        "df['children'].isnull().sum()"
      ],
      "metadata": {
        "id": "fxDX54FuQh8v"
      },
      "execution_count": null,
      "outputs": []
    },
    {
      "cell_type": "code",
      "source": [
        "\n",
        "# Replacing the null value in \"agent\" column by mean\n",
        "df[\"agent\"].fillna(df[\"agent\"].mean(),inplace= True)\n",
        "df['agent'].isnull().sum()"
      ],
      "metadata": {
        "id": "NknpTtiqQnKk"
      },
      "execution_count": null,
      "outputs": []
    },
    {
      "cell_type": "code",
      "source": [
        "# Drop the \"company\" column as it has more missing value \"94%\"\n",
        "df = df.drop([\"company\"],axis=1)\n"
      ],
      "metadata": {
        "id": "5HkvPOEPQpyV"
      },
      "execution_count": null,
      "outputs": []
    },
    {
      "cell_type": "code",
      "source": [
        "# Remove 488 or 0.41% missing data of \"country\"\n",
        "df = df.dropna(axis=0)"
      ],
      "metadata": {
        "id": "XHUXWJx3QsK5"
      },
      "execution_count": null,
      "outputs": []
    },
    {
      "cell_type": "code",
      "source": [
        "# now lets check the shape\n",
        "df.shape\n"
      ],
      "metadata": {
        "id": "6g623yzhQuVH"
      },
      "execution_count": null,
      "outputs": []
    },
    {
      "cell_type": "code",
      "source": [
        "# lets check database in anyb other null value\n",
        "df.isnull().sum()"
      ],
      "metadata": {
        "id": "Az7bcZ21Qy2k"
      },
      "execution_count": null,
      "outputs": []
    },
    {
      "cell_type": "code",
      "source": [
        "# lets check info datatype\n",
        "df.info()"
      ],
      "metadata": {
        "id": "HSJrZBRqQ2B9"
      },
      "execution_count": null,
      "outputs": []
    },
    {
      "cell_type": "code",
      "source": [
        "# total stay in nights\n",
        "df['total_stay_in_nights'] = df['stays_in_week_nights'] + df['stays_in_weekend_nights']\n",
        "df['total_stay_in_nights']"
      ],
      "metadata": {
        "id": "4M2d3VczQ8QW"
      },
      "execution_count": null,
      "outputs": []
    },
    {
      "cell_type": "code",
      "source": [
        "# created column for revenue  using total_stay * adr\n",
        "df['revenue'] = df['total_stay_in_nights'] * df['adr']\n",
        "df['revenue']"
      ],
      "metadata": {
        "id": "WQsCkio7RCvT"
      },
      "execution_count": null,
      "outputs": []
    },
    {
      "cell_type": "code",
      "source": [
        "# total guest coming for each booking\n",
        "df['total_guest'] = df['children'] + df['adults'] + df['babies']\n",
        "df['total_guest'].sum()"
      ],
      "metadata": {
        "id": "D9qV8rcoREzM"
      },
      "execution_count": null,
      "outputs": []
    },
    {
      "cell_type": "code",
      "source": [
        "# from column is_cancelled . we will replace the value from(0,1) to not_cancelled,is cancelled\n",
        "df['is_canceled'] = df['is_canceled'].replace([0,1] , ['not_cancelled','is_cancelled'])\n",
        "df['is_canceled']"
      ],
      "metadata": {
        "id": "SIG9SYJkRIx1"
      },
      "execution_count": null,
      "outputs": []
    },
    {
      "cell_type": "code",
      "source": [
        "\n",
        "# same for the repeated guest column\n",
        "df['is_repeated_guest'] = df['is_repeated_guest'].replace([0,1],['not_repeated','repeated'])\n",
        "df['is_repeated_guest']"
      ],
      "metadata": {
        "id": "CWafczsKRK31"
      },
      "execution_count": null,
      "outputs": []
    },
    {
      "cell_type": "code",
      "source": [
        "# check revenue hotel wise\n",
        "hotel_wise_total_revenue = df.groupby('hotel')['revenue'].sum()\n",
        "hotel_wise_total_revenue"
      ],
      "metadata": {
        "id": "_PRsDD70RPah"
      },
      "execution_count": null,
      "outputs": []
    },
    {
      "cell_type": "markdown",
      "source": [
        "### What all manipulations have you done and insights you found?"
      ],
      "metadata": {
        "id": "MSa1f5Uengrz"
      }
    },
    {
      "cell_type": "markdown",
      "source": [
        "1)Dropping duplicates : There were total number of duplicate values was 31994 . So first we have dropped these duplicates to clean the data. Now number of rows are after removing duplicates are 87396.\n",
        "\n",
        "2)Handling Null Values: 'children', 'country', 'agent', and 'company'. These are the column with null values and droping the company coloumn as it has highest null values\n",
        "\n",
        "Then replacing null values in agent column with 0 assuming those rooms were booked without company/agent\n",
        "\n",
        "Then I have filled null values in children column with 0 as there are only 4 missing values ,assuming that family had 0 children.\n",
        "\n",
        "Replacing null values in the country column with 'others'to avoid confusion.\n",
        "\n",
        "3) There are some rows with total number of adults, children or babies equal to zero , this means there is no any booking were made . So we have removed 166 rows having with 0 in adult ,babies and children coloumn\n",
        "\n",
        "4)Childern & agent column datatype was float but it contains only int value,so change datatype as int64.\n",
        "\n",
        "5)for our understanding, in column 'is_canceled' we will replace the value from (0,1) to not_canceled, is canceled and same done for 'is_repeated_guest' column\n",
        "\n",
        "6)There are few columns required in Data to analysis purpose which is created from the given columns.\n",
        "\n",
        "Total Guests: This columns will help us to evaluate the volumes of total guest and revenue as well. We get this value by adding total no. of Adults, Children & babies.\n",
        "\n",
        "Revenue : We find revenue by multiplying adr & total guest. This column will use to analyse the profit and growth of each hotel."
      ],
      "metadata": {
        "id": "vi5GWPFXRg4K"
      }
    },
    {
      "cell_type": "markdown",
      "source": [
        "## ***4. Data Vizualization, Storytelling & Experimenting with charts : Understand the relationships between variables***"
      ],
      "metadata": {
        "id": "GF8Ens_Soomf"
      }
    },
    {
      "cell_type": "markdown",
      "source": [
        "#### Chart - 1"
      ],
      "metadata": {
        "id": "0wOQAZs5pc--"
      }
    },
    {
      "cell_type": "code",
      "source": [
        "# Chart - 1 visualization code\n",
        "# Plotting Histogram\n",
        "df.hist(figsize=(25,18))\n",
        "plt.show()"
      ],
      "metadata": {
        "id": "7v_ESjsspbW7"
      },
      "execution_count": null,
      "outputs": []
    },
    {
      "cell_type": "markdown",
      "source": [
        "##### 1. Why did you pick the specific chart?"
      ],
      "metadata": {
        "id": "K5QZ13OEpz2H"
      }
    },
    {
      "cell_type": "markdown",
      "source": [
        "I used histogram data because it effectively shows the distribution of numerical data and also popular tool to summarize the data."
      ],
      "metadata": {
        "id": "XESiWehPqBRc"
      }
    },
    {
      "cell_type": "markdown",
      "source": [
        "##### 2. What is/are the insight(s) found from the chart?"
      ],
      "metadata": {
        "id": "lQ7QKXXCp7Bj"
      }
    },
    {
      "cell_type": "markdown",
      "source": [
        "The histogram reveals the spread and central tendency of various features, identifies skewness, and highlights potential outliers."
      ],
      "metadata": {
        "id": "C_j1G7yiqdRP"
      }
    },
    {
      "cell_type": "markdown",
      "source": [
        "##### 3. Will the gained insights help creating a positive business impact?\n",
        "Are there any insights that lead to negative growth? Justify with specific reason."
      ],
      "metadata": {
        "id": "448CDAPjqfQr"
      }
    },
    {
      "cell_type": "markdown",
      "source": [
        "Are there any insights that lead to negative growth? Justify with specific reason.\n",
        "\n",
        "These insights can help optimize pricing strategies, understand booking patterns, and improve operational efficiency, leading to better customer satisfaction and increased revenue.\n",
        "\n",
        "No insights from the histogram are likely to lead to negative growth. Instead, by understanding data distributions, businesses can make informed decisions to avoid potential pitfalls and better serve customer needs. For example, identifying outliers in pricing could prevent setting unrealistic rates that might deter customers."
      ],
      "metadata": {
        "id": "3cspy4FjqxJW"
      }
    },
    {
      "cell_type": "markdown",
      "source": [
        "#### Chart - 2"
      ],
      "metadata": {
        "id": "KSlN3yHqYklG"
      }
    },
    {
      "cell_type": "code",
      "source": [
        "# Chart - 2 visualization code\n",
        "from matplotlib.image import Bbox\n",
        "# Chart - 2 visualization code\n",
        "def get_count_from_column_bar(df,column_label):\n",
        "  df_grpd = df[column_label].value_counts()\n",
        "  df_grpd = pd.DataFrame({'index':df_grpd.index,'count':df_grpd.values})\n",
        "  return df_grpd\n",
        "\n",
        "# format the label of x-axis\n",
        "\n",
        "  def plot_bar_chart_from_column(df,column_label,t1):\n",
        "    df_grpd = get_count_from_column(df,column_label)\n",
        "    fig, ax = ply.subplots(figsize=(25,8))\n",
        "    c = ['g','r','b','c','y']\n",
        "    ax.bar(df_grpd['index'],df_grpd['count'],width = 0.6,align = 'edge', edgecolor = 'red', linewidth = 6, color=c , linestyle = ':', alpha = 0.6)\n",
        "    plt.title(t1, bbox={'pad':6})\n",
        "    plt.legend()\n",
        "    plt.ylabel('count')\n",
        "    plt.xticks(rotation=20)\n",
        "    plt.xlabel(column_label)\n",
        "    plt.show()"
      ],
      "metadata": {
        "id": "R4YgtaqtYklH"
      },
      "execution_count": null,
      "outputs": []
    },
    {
      "cell_type": "code",
      "source": [
        "# Chart - 2 visualization code\n",
        "def get_count_from_column(df,column_label):\n",
        "  df_grpd = df[column_label].value_counts()\n",
        "  df_grpd = pd.DataFrame({'index':df_grpd.index,'count':df_grpd.values})\n",
        "  return df_grpd\n",
        "\n",
        "# plot a piechart from a group data\n",
        "\n",
        "\n",
        "def plot_pie_chart_from_column(df,column_label,t1,exp):\n",
        "  df_grpd = get_count_from_column(df,column_label)\n",
        "  fig, ax = plt.subplots(figsize=(25,8))\n",
        "  ax.pie(df_grpd.loc[:,'count'],labels = df_grpd.loc[:,'index'],autopct = '%1.2f%%', startangle=90,shadow = True,labeldistance = 1, explode =exp)\n",
        "  plt.title(t1, bbox={'pad':6})\n",
        "  ax.axis('equal')\n",
        "  plt.legend()\n",
        "  plt.show()"
      ],
      "metadata": {
        "id": "jR87jXI_SLqV"
      },
      "execution_count": null,
      "outputs": []
    },
    {
      "cell_type": "code",
      "source": [
        "exp1 = [0.08,0.08]\n",
        "plot_pie_chart_from_column(df,'hotel','Booking percentage of Hotel',exp1)"
      ],
      "metadata": {
        "id": "hTpF44CWSQbi"
      },
      "execution_count": null,
      "outputs": []
    },
    {
      "cell_type": "markdown",
      "source": [
        "##### 1. Why did you pick the specific chart?"
      ],
      "metadata": {
        "id": "t6dVpIINYklI"
      }
    },
    {
      "cell_type": "markdown",
      "source": [
        "I selected a pie chart because it effectively illustrates the percentage distribution of categorical data, making it easy to compare proportions between categories."
      ],
      "metadata": {
        "id": "5aaW0BYyYklI"
      }
    },
    {
      "cell_type": "markdown",
      "source": [
        "##### 2. What is/are the insight(s) found from the chart?"
      ],
      "metadata": {
        "id": "ijmpgYnKYklI"
      }
    },
    {
      "cell_type": "markdown",
      "source": [
        "According to data City hotel has the maximum bookings which is near about 61% on the other hand Resort hotel has only 38% (approx) bookings.Here we can say that the consuption of the City hotel is more according to Resort hotel."
      ],
      "metadata": {
        "id": "PSx9atu2YklI"
      }
    },
    {
      "cell_type": "markdown",
      "source": [
        "##### 3. Will the gained insights help creating a positive business impact?\n",
        "Are there any insights that lead to negative growth? Justify with specific reason."
      ],
      "metadata": {
        "id": "-JiQyfWJYklI"
      }
    },
    {
      "cell_type": "markdown",
      "source": [
        "Are there any insights that lead to negative growth? Justify with specific reason.\n",
        "\n",
        "These insights can inform resource allocation, marketing strategies, and operational decisions based on the popularity of each hotel type.\n",
        "\n",
        "However, relying solely on pie charts for complex datasets might oversimplify insights and overlook nuances in the data, potentially leading to suboptimal decisions."
      ],
      "metadata": {
        "id": "BcBbebzrYklV"
      }
    },
    {
      "cell_type": "markdown",
      "source": [
        "#### Chart - 3"
      ],
      "metadata": {
        "id": "EM7whBJCYoAo"
      }
    },
    {
      "cell_type": "code",
      "source": [
        "# Chart - 3 visualization code\n",
        "# Chart - 3 visualization code\n",
        "# chart for cancelled or not cancelled hotel\n",
        "exp4 = [0,0.4]\n",
        "plot_pie_chart_from_column(df,'is_canceled','cancellation_volume_of_hotel',exp4)"
      ],
      "metadata": {
        "id": "t6GMdE67YoAp"
      },
      "execution_count": null,
      "outputs": []
    },
    {
      "cell_type": "markdown",
      "source": [
        "##### 1. Why did you pick the specific chart?"
      ],
      "metadata": {
        "id": "fge-S5ZAYoAp"
      }
    },
    {
      "cell_type": "markdown",
      "source": [
        "I picked a pie chart because it effectively represents the proportion of bookings that are cancelled versus those that are not, making it easy to visualize the relative frequencies of these categories."
      ],
      "metadata": {
        "id": "5dBItgRVYoAp"
      }
    },
    {
      "cell_type": "markdown",
      "source": [
        "##### 2. What is/are the insight(s) found from the chart?"
      ],
      "metadata": {
        "id": "85gYPyotYoAp"
      }
    },
    {
      "cell_type": "markdown",
      "source": [
        "We can see that the ratio of not cancelled hotel is more than the cancelled hotel."
      ],
      "metadata": {
        "id": "QsoLuQxDSi_u"
      }
    },
    {
      "cell_type": "markdown",
      "source": [
        "##### 3. Will the gained insights help creating a positive business impact?\n",
        "Are there any insights that lead to negative growth? Justify with specific reason."
      ],
      "metadata": {
        "id": "RoGjAbkUYoAp"
      }
    },
    {
      "cell_type": "markdown",
      "source": [
        "Are there any insights that lead to negative growth? Justify with specific reason.\n",
        "\n",
        "Alsmost 27% customers cancelled their booking.\n",
        "\n",
        "we have to check the reson behind the cancellation and need to sort this problems."
      ],
      "metadata": {
        "id": "zfJ8IqMcYoAp"
      }
    },
    {
      "cell_type": "markdown",
      "source": [
        "#### Chart - 4"
      ],
      "metadata": {
        "id": "4Of9eVA-YrdM"
      }
    },
    {
      "cell_type": "code",
      "source": [
        "# Chart - 4 visualization code\n",
        "# chart of total stay\n",
        "df['total_stay_in_nights'] = df['stays_in_week_nights'] + df['stays_in_weekend_nights']\n",
        "plt.figure(figsize=(18,8))\n",
        "sns.violinplot(x=\"arrival_date_week_number\",y=\"total_stay_in_nights\",data= df)\n",
        "plt.title(\"Week wise  no. of stays\", fontsize = 25)\n",
        "plt.ylabel(\"Number of stays\",fontsize=20)\n",
        "plt.xlabel(\"Week numbers\",fontsize=18)\n",
        "df['total_stay_in_nights'] = df['stays_in_week_nights'] + df['stays_in_weekend_nights']"
      ],
      "metadata": {
        "id": "irlUoxc8YrdO"
      },
      "execution_count": null,
      "outputs": []
    },
    {
      "cell_type": "markdown",
      "source": [
        "##### 1. Why did you pick the specific chart?"
      ],
      "metadata": {
        "id": "iky9q4vBYrdO"
      }
    },
    {
      "cell_type": "markdown",
      "source": [
        "I picked a violin plot because it provides a detailed visualization of the distribution of the total number of stays across different weeks, showing both the density and variability of the data."
      ],
      "metadata": {
        "id": "aJRCwT6DYrdO"
      }
    },
    {
      "cell_type": "markdown",
      "source": [
        "##### 2. What is/are the insight(s) found from the chart?"
      ],
      "metadata": {
        "id": "F6T5p64dYrdO"
      }
    },
    {
      "cell_type": "markdown",
      "source": [
        "This chart shows that the maximum number of guests come in the week 39."
      ],
      "metadata": {
        "id": "Xx8WAJvtYrdO"
      }
    },
    {
      "cell_type": "markdown",
      "source": [
        "##### 3. Will the gained insights help creating a positive business impact?\n",
        "Are there any insights that lead to negative growth? Justify with specific reason."
      ],
      "metadata": {
        "id": "y-Ehk30pYrdP"
      }
    },
    {
      "cell_type": "markdown",
      "source": [
        "Are there any insights that lead to negative growth? Justify with specific reason.\n",
        "\n",
        "According to chart we can see that some weeks are very low customers rate, For this we can more adervertise and give discounts to attarct the customers."
      ],
      "metadata": {
        "id": "jLNxxz7MYrdP"
      }
    },
    {
      "cell_type": "markdown",
      "source": [
        "#### Chart - 5"
      ],
      "metadata": {
        "id": "bamQiAODYuh1"
      }
    },
    {
      "cell_type": "code",
      "source": [
        "# Chart - 5 visualization code\n",
        "plt.figure(figsize=(9,5))\n",
        "sns.countplot(x=df['agent'])\n",
        "plt.title(\"Distribution of Bookings by Agent\", fontsize=25)\n",
        "plt.ylabel(\"Count\", fontsize=20)\n",
        "plt.xlabel(\"Agent ID\", fontsize=18)\n",
        "plt.show()"
      ],
      "metadata": {
        "id": "TIJwrbroYuh3"
      },
      "execution_count": null,
      "outputs": []
    },
    {
      "cell_type": "markdown",
      "source": [
        "##### 1. Why did you pick the specific chart?"
      ],
      "metadata": {
        "id": "QHF8YVU7Yuh3"
      }
    },
    {
      "cell_type": "markdown",
      "source": [
        "I picked a count plot because it effectively shows the frequency of bookings made through different agents, allowing for easy comparison of agent performance and popularity."
      ],
      "metadata": {
        "id": "dcxuIMRPYuh3"
      }
    },
    {
      "cell_type": "markdown",
      "source": [
        "##### 2. What is/are the insight(s) found from the chart?"
      ],
      "metadata": {
        "id": "GwzvFGzlYuh3"
      }
    },
    {
      "cell_type": "markdown",
      "source": [
        "The chart reveals which agents are responsible for the most bookings. Some agents have significantly higher booking counts, indicating they are major contributors to the hotel's business."
      ],
      "metadata": {
        "id": "uyqkiB8YYuh3"
      }
    },
    {
      "cell_type": "markdown",
      "source": [
        "##### 3. Will the gained insights help creating a positive business impact?\n",
        "Are there any insights that lead to negative growth? Justify with specific reason."
      ],
      "metadata": {
        "id": "qYpmQ266Yuh3"
      }
    },
    {
      "cell_type": "markdown",
      "source": [
        "\n",
        "Yes, these insights can help the hotel identify top-performing agents and potentially offer them incentives or partnerships to boost bookings further. Additionally, understanding which agents are underperforming could lead to strategies to improve their performance or reconsider the partnerships."
      ],
      "metadata": {
        "id": "_WtzZ_hCYuh4"
      }
    },
    {
      "cell_type": "markdown",
      "source": [
        "#### Chart - 6"
      ],
      "metadata": {
        "id": "OH-pJp9IphqM"
      }
    },
    {
      "cell_type": "code",
      "source": [
        "# Chart - 6 visualization code\n",
        "# Plot pie chart for month-wise booking distribution\n",
        "exp2 = [0.8,0,0,0,0,0,0,0,0,0,0,0.10]\n",
        "plot_pie_chart_from_column(df, 'arrival_date_month', 'Month-wise Booking Distribution', exp2)\n"
      ],
      "metadata": {
        "id": "kuRf4wtuphqN"
      },
      "execution_count": null,
      "outputs": []
    },
    {
      "cell_type": "markdown",
      "source": [
        "##### 1. Why did you pick the specific chart?"
      ],
      "metadata": {
        "id": "bbFf2-_FphqN"
      }
    },
    {
      "cell_type": "markdown",
      "source": [
        "I picked a pie chart because it effectively shows the proportion of bookings in each month, making it easy to visualize and compare the relative frequencies of bookings across different months."
      ],
      "metadata": {
        "id": "loh7H2nzphqN"
      }
    },
    {
      "cell_type": "markdown",
      "source": [
        "##### 2. What is/are the insight(s) found from the chart?"
      ],
      "metadata": {
        "id": "_ouA3fa0phqN"
      }
    },
    {
      "cell_type": "markdown",
      "source": [
        "The above percentage pie chart shows that hotel gets the maximum booking of hotels in the month of August followed by july and may due to holiday seasons."
      ],
      "metadata": {
        "id": "VECbqPI7phqN"
      }
    },
    {
      "cell_type": "markdown",
      "source": [
        "##### 3. Will the gained insights help creating a positive business impact?\n",
        "Are there any insights that lead to negative growth? Justify with specific reason."
      ],
      "metadata": {
        "id": "Seke61FWphqN"
      }
    },
    {
      "cell_type": "markdown",
      "source": [
        "Are there any insights that lead to negative growth? Justify with specific reason.\n",
        "\n",
        "Are there any insights that lead to negative growth? Justify with specific reason.\n",
        "\n",
        "Yes , with increase in volume of visitors will help to manage the revenue in the down time of the booking and also help in employes satisfaction or rentation."
      ],
      "metadata": {
        "id": "DW4_bGpfphqN"
      }
    },
    {
      "cell_type": "markdown",
      "source": [
        "#### Chart - 7"
      ],
      "metadata": {
        "id": "PIIx-8_IphqN"
      }
    },
    {
      "cell_type": "code",
      "source": [
        "# Chart - 7 visualization code\n",
        "# repetead guest in the hotel\n",
        "exp3 = [0,0.4]\n",
        "plot_pie_chart_from_column(df,'is_repeated_guest', 'guest repeating status',exp3)"
      ],
      "metadata": {
        "id": "lqAIGUfyphqO"
      },
      "execution_count": null,
      "outputs": []
    },
    {
      "cell_type": "markdown",
      "source": [
        "##### 1. Why did you pick the specific chart?"
      ],
      "metadata": {
        "id": "t27r6nlMphqO"
      }
    },
    {
      "cell_type": "markdown",
      "source": [
        "I picked a pie chart because it clearly shows the proportion of guests who are repeated visitors versus those who are not, making it easy to understand the guest loyalty."
      ],
      "metadata": {
        "id": "iv6ro40sphqO"
      }
    },
    {
      "cell_type": "markdown",
      "source": [
        "##### 2. What is/are the insight(s) found from the chart?"
      ],
      "metadata": {
        "id": "r2jJGEOYphqO"
      }
    },
    {
      "cell_type": "markdown",
      "source": [
        "Here,We can see that the number of repeated guests is very less as compared to new guests."
      ],
      "metadata": {
        "id": "Po6ZPi4hphqO"
      }
    },
    {
      "cell_type": "markdown",
      "source": [
        "##### 3. Will the gained insights help creating a positive business impact?\n",
        "Are there any insights that lead to negative growth? Justify with specific reason."
      ],
      "metadata": {
        "id": "b0JNsNcRphqO"
      }
    },
    {
      "cell_type": "markdown",
      "source": [
        "\n",
        "\n",
        "yes, We can give exclusive discounts,offers and coupons to our customers during off seasons to enhance the revenue of our hotel."
      ],
      "metadata": {
        "id": "xvSq8iUTphqO"
      }
    },
    {
      "cell_type": "markdown",
      "source": [
        "#### Chart - 8"
      ],
      "metadata": {
        "id": "BZR9WyysphqO"
      }
    },
    {
      "cell_type": "code",
      "source": [
        "# Chart - 8 visualization code\n",
        "guest_month_wise = pd.DataFrame(df[['arrival_date_month','total_guest']])\n",
        "guest_month_wise_df = guest_month_wise.groupby(['arrival_date_month'])['total_guest'].sum()\n",
        "guest_month_wise_df.sort_values(ascending = False, inplace = True)\n",
        "df['total_guest']\n"
      ],
      "metadata": {
        "id": "TdPTWpAVphqO"
      },
      "execution_count": null,
      "outputs": []
    },
    {
      "cell_type": "code",
      "source": [
        "market_segment_df = pd.DataFrame(df['market_segment'])\n",
        "market_segment_df_data= market_segment_df.groupby('market_segment')['market_segment'].count()\n",
        "market_segment_df_data.sort_values(ascending = False, inplace= True)\n",
        "plt.figure(figsize=(15,6))\n",
        "y= np.array([4,5,6])\n",
        "market_segment_df_data.plot(kind='bar',color = ['g','r','c','b','y','black','brown'], fontsize = 20, legend = 'True')"
      ],
      "metadata": {
        "id": "Ema5zoWPTrDQ"
      },
      "execution_count": null,
      "outputs": []
    },
    {
      "cell_type": "markdown",
      "source": [
        "##### 1. Why did you pick the specific chart?"
      ],
      "metadata": {
        "id": "jj7wYXLtphqO"
      }
    },
    {
      "cell_type": "markdown",
      "source": [
        "I picked a bar chart because it effectively shows the distribution and frequency of bookings across different market segments, making it easy to compare the popularity and volume of each segment."
      ],
      "metadata": {
        "id": "Ob8u6rCTphqO"
      }
    },
    {
      "cell_type": "markdown",
      "source": [
        "##### 2. What is/are the insight(s) found from the chart?"
      ],
      "metadata": {
        "id": "eZrbJ2SmphqO"
      }
    },
    {
      "cell_type": "markdown",
      "source": [
        "Online TA has been used most frequently to book hotel by the guest."
      ],
      "metadata": {
        "id": "mZtgC_hjphqO"
      }
    },
    {
      "cell_type": "markdown",
      "source": [
        "##### 3. Will the gained insights help creating a positive business impact?\n",
        "Are there any insights that lead to negative growth? Justify with specific reason."
      ],
      "metadata": {
        "id": "rFu4xreNphqO"
      }
    },
    {
      "cell_type": "markdown",
      "source": [
        "\n",
        "Yes, it is creating positive business impact that guests are using online TA market segment as most preferd to book hotels."
      ],
      "metadata": {
        "id": "ey_0qi68phqO"
      }
    },
    {
      "cell_type": "markdown",
      "source": [
        "#### Chart - 9"
      ],
      "metadata": {
        "id": "YJ55k-q6phqO"
      }
    },
    {
      "cell_type": "code",
      "source": [
        "# Chart - 9 visualization code\n",
        "guest_country_wise = pd.DataFrame(df[['country','total_guest']])\n",
        "guest_country_wise_df = guest_country_wise.groupby(['country'])['total_guest'].sum()\n",
        "guest_country_wise_df.sort_values(ascending = False , inplace = True)\n",
        "top_10_country_by_guest = guest_country_wise_df.head(10)"
      ],
      "metadata": {
        "id": "B2aS4O1ophqO"
      },
      "execution_count": null,
      "outputs": []
    },
    {
      "cell_type": "code",
      "source": [
        "\n",
        "plt.figure(figsize=(12,6))\n",
        "sns.barplot(x=top_10_country_by_guest.index,y=top_10_country_by_guest).set(title='top 10 country by guest')\n",
        "print(\"/n/nPRT = Portugal/nGBR = Great Britain & Northern Ireland/nFRA= France/nESP = Spain/nDEU = Germany/nITA = Italy/nIRL = Ireland/nBRA = Brazil/nBEL = Belgium/nNLD = Neitherland\")"
      ],
      "metadata": {
        "id": "86VTbhF6T_II"
      },
      "execution_count": null,
      "outputs": []
    },
    {
      "cell_type": "markdown",
      "source": [
        "##### 1. Why did you pick the specific chart?"
      ],
      "metadata": {
        "id": "gCFgpxoyphqP"
      }
    },
    {
      "cell_type": "markdown",
      "source": [
        "\n",
        "I picked a bar chart because it effectively displays the number of guests from the top 10 countries, making it easy to compare and rank the countries by their contribution to the guest count."
      ],
      "metadata": {
        "id": "TVxDimi2phqP"
      }
    },
    {
      "cell_type": "markdown",
      "source": [
        "##### 2. What is/are the insight(s) found from the chart?"
      ],
      "metadata": {
        "id": "OVtJsKN_phqQ"
      }
    },
    {
      "cell_type": "markdown",
      "source": [
        "According to the grap we can clearly see that maximum guests come from Portugal country."
      ],
      "metadata": {
        "id": "ngGi97qjphqQ"
      }
    },
    {
      "cell_type": "markdown",
      "source": [
        "##### 3. Will the gained insights help creating a positive business impact?\n",
        "Are there any insights that lead to negative growth? Justify with specific reason."
      ],
      "metadata": {
        "id": "lssrdh5qphqQ"
      }
    },
    {
      "cell_type": "markdown",
      "source": [
        "\n",
        "\n",
        "We can do more advertisment & can provide offers to Portugal guests to enhance the more customer volumes."
      ],
      "metadata": {
        "id": "tBpY5ekJphqQ"
      }
    },
    {
      "cell_type": "markdown",
      "source": [
        "#### Chart - 10"
      ],
      "metadata": {
        "id": "U2RJ9gkRphqQ"
      }
    },
    {
      "cell_type": "code",
      "source": [
        "# Chart - 10 visualization code\n",
        "plt.figure(figsize=(10,6))\n",
        "hotel_wise_revenue = df.groupby('hotel')['revenue'].sum()\n",
        "hotel_wise_revenue\n",
        "ax = hotel_wise_revenue.plot(kind = 'bar',color = ('y','c'))\n",
        "plt.xlabel(\"Hotel\", fontdict ={'fontsize':12,'fontweight':5,'color':'red'})\n",
        "plt.ylabel(\"Total revenue\", fontdict={'fontsize':12,'fontweight':5,'color':'red'})\n",
        "plt.title(\"Total revenue\", fontdict={'fontsize':12,'fontweight':5,'color':'green'})"
      ],
      "metadata": {
        "id": "GM7a4YP4phqQ"
      },
      "execution_count": null,
      "outputs": []
    },
    {
      "cell_type": "markdown",
      "source": [
        "##### 1. Why did you pick the specific chart?"
      ],
      "metadata": {
        "id": "1M8mcRywphqQ"
      }
    },
    {
      "cell_type": "markdown",
      "source": [
        "I chose a bar chart because it is ideal for comparing the total revenue generated by different types of hotels (e.g., City Hotel and Resort Hotel). It allows for a clear and straightforward comparison between categories."
      ],
      "metadata": {
        "id": "8agQvks0phqQ"
      }
    },
    {
      "cell_type": "markdown",
      "source": [
        "##### 2. What is/are the insight(s) found from the chart?"
      ],
      "metadata": {
        "id": "tgIPom80phqQ"
      }
    },
    {
      "cell_type": "markdown",
      "source": [
        "The City Hotel has heighest adr. This means City Hotel are generating more revenue than the Resort Hotel."
      ],
      "metadata": {
        "id": "Qp13pnNzphqQ"
      }
    },
    {
      "cell_type": "markdown",
      "source": [
        "##### 3. Will the gained insights help creating a positive business impact?\n",
        "Are there any insights that lead to negative growth? Justify with specific reason."
      ],
      "metadata": {
        "id": "JMzcOPDDphqR"
      }
    },
    {
      "cell_type": "markdown",
      "source": [
        "Yes, more advertisment , more offers creates more revenue to the Hotels."
      ],
      "metadata": {
        "id": "R4Ka1PC2phqR"
      }
    },
    {
      "cell_type": "markdown",
      "source": [
        "#### Chart - 11"
      ],
      "metadata": {
        "id": "x-EpHcCOp1ci"
      }
    },
    {
      "cell_type": "code",
      "source": [
        "# Chart - 11 visualization code\n",
        "# To find Average ADR of the hotels\n",
        "average_adr = df.groupby('hotel')['adr'].mean()\n",
        "average_adr\n",
        "\n",
        "plt.subplots(figsize=(12,8))\n",
        "average_adr.plot(kind = 'barh',color = ('c','y'))\n",
        "plt.xlabel(\"Average ADR\",fontdict={'fontsize':12,'fontweight':5,'color':'Brown'})\n",
        "plt.ylabel(\"Hotel Name\",fontdict={'fontsize':12,'fontweight':5,'color':'Brown'})\n",
        "plt.title(\"Average ADR of Hotel\",fontdict={'fontsize':12,'fontweight':5,'color':'Green'})"
      ],
      "metadata": {
        "id": "mAQTIvtqp1cj"
      },
      "execution_count": null,
      "outputs": []
    },
    {
      "cell_type": "markdown",
      "source": [
        "##### 1. Why did you pick the specific chart?"
      ],
      "metadata": {
        "id": "X_VqEhTip1ck"
      }
    },
    {
      "cell_type": "markdown",
      "source": [
        "I chose a horizontal bar chart to compare the Average Daily Rate (ADR) of different hotel types. This chart type makes it easy to see which hotel type has a higher or lower ADR and is effective for side-by-side comparisons."
      ],
      "metadata": {
        "id": "-vsMzt_np1ck"
      }
    },
    {
      "cell_type": "markdown",
      "source": [
        "##### 2. What is/are the insight(s) found from the chart?"
      ],
      "metadata": {
        "id": "8zGJKyg5p1ck"
      }
    },
    {
      "cell_type": "markdown",
      "source": [
        "As we can see the Average ADR of City Hotel is more than the Resort Hotel , so the profit and revenue will be higher for the City Hotel as compared to Resort Hotel."
      ],
      "metadata": {
        "id": "ZYdMsrqVp1ck"
      }
    },
    {
      "cell_type": "markdown",
      "source": [
        "##### 3. Will the gained insights help creating a positive business impact?\n",
        "Are there any insights that lead to negative growth? Justify with specific reason."
      ],
      "metadata": {
        "id": "PVzmfK_Ep1ck"
      }
    },
    {
      "cell_type": "markdown",
      "source": [
        "Here we can do more advertisement of the Hotels amnd give offer to the customers to visit their hotel to get higher profit qnd large revenue."
      ],
      "metadata": {
        "id": "druuKYZpp1ck"
      }
    },
    {
      "cell_type": "markdown",
      "source": [
        "#### Chart - 12"
      ],
      "metadata": {
        "id": "n3dbpmDWp1ck"
      }
    },
    {
      "cell_type": "code",
      "source": [
        "# Chart - 12 visualization code\n",
        "plt.figure(figsize=(12,8))\n",
        "sns.scatterplot(y='adr', x='total_stay_in_nights', data=df[df['adr'] < 100])\n",
        "\n",
        "# Adding labels and title\n",
        "plt.xlabel(\"Total Stay Duration (Nights)\", fontdict={'fontsize':12, 'fontweight':5, 'color':'blue'})\n",
        "plt.ylabel(\"ADR (Average Daily Rate)\", fontdict={'fontsize':12, 'fontweight':5, 'color':'blue'})\n",
        "plt.title(\"Relationship Between ADR and Total Stay Duration\", fontdict={'fontsize':14, 'fontweight':5, 'color':'green'})\n",
        "\n",
        "# Display the plot\n",
        "plt.show()"
      ],
      "metadata": {
        "id": "bwevp1tKp1ck"
      },
      "execution_count": null,
      "outputs": []
    },
    {
      "cell_type": "markdown",
      "source": [
        "##### 1. Why did you pick the specific chart?"
      ],
      "metadata": {
        "id": "ylSl6qgtp1ck"
      }
    },
    {
      "cell_type": "markdown",
      "source": [
        "I chose a scatter plot to visualize the relationship between the Average Daily Rate (ADR) and the total stay duration. This type of chart allows for the examination of how ADR varies with the length of stay."
      ],
      "metadata": {
        "id": "m2xqNkiQp1ck"
      }
    },
    {
      "cell_type": "markdown",
      "source": [
        "##### 2. What is/are the insight(s) found from the chart?"
      ],
      "metadata": {
        "id": "ZWILFDl5p1ck"
      }
    },
    {
      "cell_type": "markdown",
      "source": [
        "The dots in scatter plot not only the report it is the values of individual data points , but also patterns when the data are taken as a whole."
      ],
      "metadata": {
        "id": "x-lUsV2mp1ck"
      }
    },
    {
      "cell_type": "markdown",
      "source": [
        "##### 3. Will the gained insights help creating a positive business impact?\n",
        "Are there any insights that lead to negative growth? Justify with specific reason."
      ],
      "metadata": {
        "id": "M7G43BXep1ck"
      }
    },
    {
      "cell_type": "markdown",
      "source": [
        "The dots in scatter plot not only the report it is the values of individual data points , but also patterns when the data are taken as a whole."
      ],
      "metadata": {
        "id": "5wwDJXsLp1cl"
      }
    },
    {
      "cell_type": "markdown",
      "source": [
        "#### Chart - 13"
      ],
      "metadata": {
        "id": "Ag9LCva-p1cl"
      }
    },
    {
      "cell_type": "code",
      "source": [
        "# Chart - 13 visualization code\n",
        "plt.figure(figsize=(12,10), dpi=100)\n",
        "hotel_wise_meal = df.groupby(['hotel','meal'])['meal'].count().unstack()\n",
        "hotel_wise_meal.plot(kind='bar', figsize=(20,12))\n",
        "plt.show()\n"
      ],
      "metadata": {
        "id": "EUfxeq9-p1cl"
      },
      "execution_count": null,
      "outputs": []
    },
    {
      "cell_type": "markdown",
      "source": [
        "##### 1. Why did you pick the specific chart?"
      ],
      "metadata": {
        "id": "E6MkPsBcp1cl"
      }
    },
    {
      "cell_type": "markdown",
      "source": [
        "I chose a grouped bar chart to compare the distribution of meal types across different hotel types. This chart type effectively shows the breakdown of meal types (e.g., Bed & Breakfast, Half Board, Full Board) within each hotel category, allowing for easy comparison."
      ],
      "metadata": {
        "id": "V22bRsFWp1cl"
      }
    },
    {
      "cell_type": "markdown",
      "source": [
        "##### 2. What is/are the insight(s) found from the chart?"
      ],
      "metadata": {
        "id": "2cELzS2fp1cl"
      }
    },
    {
      "cell_type": "markdown",
      "source": [
        "As we can see Bed & Breakfast meal is most preferd by the guests in hotels."
      ],
      "metadata": {
        "id": "ozQPc2_Ip1cl"
      }
    },
    {
      "cell_type": "markdown",
      "source": [
        "##### 3. Will the gained insights help creating a positive business impact?\n",
        "Are there any insights that lead to negative growth? Justify with specific reason."
      ],
      "metadata": {
        "id": "3MPXvC8up1cl"
      }
    },
    {
      "cell_type": "markdown",
      "source": [
        "Hotel can give more delicious dishes in the meal to get customers repeat order & attract to a new customer."
      ],
      "metadata": {
        "id": "GL8l1tdLp1cl"
      }
    },
    {
      "cell_type": "markdown",
      "source": [
        "#### Chart - 14 - Correlation Heatmap"
      ],
      "metadata": {
        "id": "NC_X3p0fY2L0"
      }
    },
    {
      "cell_type": "code",
      "source": [
        "# Correlation Heatmap visualization code\n",
        "corr_df = df[['lead_time','previous_cancellations','previous_bookings_not_canceled','total_guest',\n",
        "              'booking_changes','days_in_waiting_list','adr','required_car_parking_spaces','total_of_special_requests']].corr()\n",
        "plt.figure(figsize=(18,10))\n",
        "sns.heatmap(corr_df, annot = True, fmt='.2f',annot_kws={'size':10},vmax=1,cmap='viridis' )\n",
        "plt.title('Co-relation of the column', fontsize=20)"
      ],
      "metadata": {
        "id": "xyC9zolEZNRQ"
      },
      "execution_count": null,
      "outputs": []
    },
    {
      "cell_type": "markdown",
      "source": [
        "##### 1. Why did you pick the specific chart?"
      ],
      "metadata": {
        "id": "UV0SzAkaZNRQ"
      }
    },
    {
      "cell_type": "markdown",
      "source": [
        "Heatmaps are excellent for visualizing the correlation between variables in a dataset. They provide a quick and intuitive way to identify relationships between different columns."
      ],
      "metadata": {
        "id": "DVPuT8LYZNRQ"
      }
    },
    {
      "cell_type": "markdown",
      "source": [
        "##### 2. What is/are the insight(s) found from the chart?"
      ],
      "metadata": {
        "id": "YPEH6qLeZNRQ"
      }
    },
    {
      "cell_type": "markdown",
      "source": [
        "The heatmap allows us to see the correlation coefficients between pairs of columns in the dataset. Higher correlation coefficients (close to 1 or -1) indicate stronger relationships between variables, while values closer to 0 indicate weaker relationships or no correlation."
      ],
      "metadata": {
        "id": "bfSqtnDqZNRR"
      }
    },
    {
      "cell_type": "markdown",
      "source": [
        "#### Chart - 15 - Pair Plot"
      ],
      "metadata": {
        "id": "q29F0dvdveiT"
      }
    },
    {
      "cell_type": "code",
      "source": [
        "# Pair Plot visualization code\n",
        "sns.pairplot(df)"
      ],
      "metadata": {
        "id": "eAKDHb64WWck"
      },
      "execution_count": null,
      "outputs": []
    },
    {
      "cell_type": "markdown",
      "source": [
        "##### 1. Why did you pick the specific chart?"
      ],
      "metadata": {
        "id": "EXh0U9oCveiU"
      }
    },
    {
      "cell_type": "markdown",
      "source": [
        "A pairs plot allows us to see both distribution of single variables and relationships between two variables .\n",
        "\n",
        "We can see the realtionship between all the columns with each other in above chart."
      ],
      "metadata": {
        "id": "eMmPjTByveiU"
      }
    },
    {
      "cell_type": "markdown",
      "source": [
        "##### 2. What is/are the insight(s) found from the chart?"
      ],
      "metadata": {
        "id": "22aHeOlLveiV"
      }
    },
    {
      "cell_type": "markdown",
      "source": [
        "From the above pair plot we can see that if cancellation increases then total stay also decreases. As the total number of people increases adr also increases. Thus adr and total people are directly proportional to each other."
      ],
      "metadata": {
        "id": "uPQ8RGwHveiV"
      }
    },
    {
      "cell_type": "markdown",
      "source": [
        "## **5. Solution to Business Objective**"
      ],
      "metadata": {
        "id": "JcMwzZxoAimU"
      }
    },
    {
      "cell_type": "markdown",
      "source": [
        "#### What do you suggest the client to achieve Business Objective ?\n",
        "Explain Briefly."
      ],
      "metadata": {
        "id": "8G2x9gOozGDZ"
      }
    },
    {
      "cell_type": "markdown",
      "source": [
        "Following are the points to achieve Bussines Objectives\n",
        "\n",
        "1- Increasing the revenue achieved by bar chart distribution of which type of rooms are most reserved in which months.\n",
        "\n",
        "2- For hotel bussiness to florish few things which we need to consider in high revenue generation,customer satisfaction and employes rentation.\n",
        "\n",
        "3- We are able to achieve the same by showing the months to client which are higher in revenue generation by pie chart distribution.\n",
        "\n",
        "4- So for the clients who are well prepare in advance so that the minimum grievance would be faced by clients in long run and would help in further enhancement of their hospitalities.\n",
        "\n",
        "5- We are able to co relate the values showing the max and min percentage between them so that the percentage lying those numbers can be enhanced by various medium.\n",
        "\n",
        "6- Outliers like higher the visitor then the adr has reduced drastically was shown in Scatter plot so in off sasons client engagedwith offices for bulk booking this will also help in extra revenue generation.\n",
        "\n",
        "7- We are able to show the trend of arrivals of visitor at client location through which client engaged visitors well advance for their entertainment and leisure activities."
      ],
      "metadata": {
        "id": "pASKb0qOza21"
      }
    },
    {
      "cell_type": "markdown",
      "source": [
        "# **Conclusion**"
      ],
      "metadata": {
        "id": "gCX9965dhzqZ"
      }
    },
    {
      "cell_type": "markdown",
      "source": [
        "1- Repeated guest maximum comes from corporate sector.\n",
        "\n",
        "2- City hotel seems to be more preferred among travellers and it also generates more revenue & profit.\n",
        "\n",
        "3- Most of the guests stay 3-4 days in the hotel.\n",
        "\n",
        "4- Most numbers of bookings are made in month of july and august as compared to another month.\n",
        "\n",
        "5- Room type A is most preferred room as compare to other rooms.\n",
        "\n",
        "6- Most number of bookings are made fromm Portugal & Great Britain.\n",
        "\n",
        "7- City hotel guest retains more number of guests.\n",
        "\n",
        "8- Around one-fourth of the total bookings getting cancelled. More cancellation comes from City hotel.\n",
        "\n",
        "9- New guest tends to cancel bookings more than repeated customers.\n",
        "\n",
        "10- Waiting list customers does not affect on their cancel bookings\n",
        "\n",
        "11- The length of the stay decreases as ADR increses probably to reduce the cost."
      ],
      "metadata": {
        "id": "Fjb1IsQkh3yE"
      }
    },
    {
      "cell_type": "markdown",
      "source": [
        "### ***Hurrah! You have successfully completed your EDA Capstone Project !!!***"
      ],
      "metadata": {
        "id": "gIfDvo9L0UH2"
      }
    }
  ]
}